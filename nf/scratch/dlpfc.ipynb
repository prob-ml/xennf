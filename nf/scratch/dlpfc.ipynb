{
 "cells": [
  {
   "cell_type": "code",
   "execution_count": 1,
   "metadata": {},
   "outputs": [],
   "source": [
    "import anndata as ad\n",
    "import scanpy as sc\n",
    "import numpy as np\n",
    "import pandas as pd\n",
    "import os\n",
    "import torch\n",
    "import matplotlib.pyplot as plt \n",
    "import scipy\n",
    "import sys\n",
    "\n",
    "from sklearn.decomposition import PCA\n",
    "from sklearn.preprocessing import StandardScaler\n",
    "from matplotlib.colors import ListedColormap\n",
    "\n",
    "sys.path.append(os.path.abspath('..'))\n",
    "from xenium_cluster import XeniumCluster"
   ]
  },
  {
   "cell_type": "code",
   "execution_count": 7,
   "metadata": {},
   "outputs": [],
   "source": [
    "def prepare_DLPFC_data(\n",
    "    section_id=151670,\n",
    "    num_pcs=5,\n",
    "    log_normalize=True,\n",
    "):\n",
    "    section = ad.read_h5ad(f\"../../../xenium/data/DLPFC/{section_id}.h5ad\")\n",
    "    section.var[\"feature_name\"] = section.var.index\n",
    "\n",
    "    spatial_locations = section.obs[[\"array_row\", \"array_col\"]]\n",
    "    spatial_locations.columns = [\"row\", \"col\"]\n",
    "\n",
    "    clustering = XeniumCluster(data=section.X, dataset_name=\"DLPFC\")\n",
    "    clustering.xenium_spot_data = section\n",
    "    clustering.xenium_spot_data.X = clustering.xenium_spot_data.X.A\n",
    "    if log_normalize:\n",
    "        clustering.xenium_spot_data.X = np.log1p(clustering.xenium_spot_data.X)\n",
    "\n",
    "    sc.tl.pca(clustering.xenium_spot_data, svd_solver='arpack', n_comps=num_pcs)\n",
    "    data = clustering.xenium_spot_data.obsm[\"X_pca\"]\n",
    "    clustering.xenium_spot_data.obs.rename(columns={\"array_row\": \"row\", \"array_col\": \"col\"}, inplace=True)\n",
    "\n",
    "    return data, spatial_locations, clustering"
   ]
  },
  {
   "cell_type": "code",
   "execution_count": 8,
   "metadata": {},
   "outputs": [],
   "source": [
    "# Data Properties\n",
    "batch_size = 256\n",
    "data_dimension = 5\n",
    "num_clusters = 7\n",
    "learn_global_variances = False"
   ]
  },
  {
   "cell_type": "code",
   "execution_count": 9,
   "metadata": {},
   "outputs": [],
   "source": [
    "gene_data, spatial_locations, original_adata = prepare_DLPFC_data(151673)\n",
    "prior_means = torch.zeros(num_clusters, gene_data.shape[1])\n",
    "prior_scales = torch.ones(num_clusters, gene_data.shape[1])"
   ]
  },
  {
   "cell_type": "code",
   "execution_count": 13,
   "metadata": {},
   "outputs": [
    {
     "data": {
      "text/html": [
       "<div>\n",
       "<style scoped>\n",
       "    .dataframe tbody tr th:only-of-type {\n",
       "        vertical-align: middle;\n",
       "    }\n",
       "\n",
       "    .dataframe tbody tr th {\n",
       "        vertical-align: top;\n",
       "    }\n",
       "\n",
       "    .dataframe thead th {\n",
       "        text-align: right;\n",
       "    }\n",
       "</style>\n",
       "<table border=\"1\" class=\"dataframe\">\n",
       "  <thead>\n",
       "    <tr style=\"text-align: right;\">\n",
       "      <th></th>\n",
       "      <th>gene_ids</th>\n",
       "      <th>feature_types</th>\n",
       "      <th>genome</th>\n",
       "      <th>feature_name</th>\n",
       "    </tr>\n",
       "  </thead>\n",
       "  <tbody>\n",
       "    <tr>\n",
       "      <th>MIR1302-2HG</th>\n",
       "      <td>ENSG00000243485</td>\n",
       "      <td>Gene Expression</td>\n",
       "      <td>GRCh38</td>\n",
       "      <td>MIR1302-2HG</td>\n",
       "    </tr>\n",
       "    <tr>\n",
       "      <th>FAM138A</th>\n",
       "      <td>ENSG00000237613</td>\n",
       "      <td>Gene Expression</td>\n",
       "      <td>GRCh38</td>\n",
       "      <td>FAM138A</td>\n",
       "    </tr>\n",
       "    <tr>\n",
       "      <th>OR4F5</th>\n",
       "      <td>ENSG00000186092</td>\n",
       "      <td>Gene Expression</td>\n",
       "      <td>GRCh38</td>\n",
       "      <td>OR4F5</td>\n",
       "    </tr>\n",
       "    <tr>\n",
       "      <th>AL627309.1</th>\n",
       "      <td>ENSG00000238009</td>\n",
       "      <td>Gene Expression</td>\n",
       "      <td>GRCh38</td>\n",
       "      <td>AL627309.1</td>\n",
       "    </tr>\n",
       "    <tr>\n",
       "      <th>AL627309.3</th>\n",
       "      <td>ENSG00000239945</td>\n",
       "      <td>Gene Expression</td>\n",
       "      <td>GRCh38</td>\n",
       "      <td>AL627309.3</td>\n",
       "    </tr>\n",
       "    <tr>\n",
       "      <th>...</th>\n",
       "      <td>...</td>\n",
       "      <td>...</td>\n",
       "      <td>...</td>\n",
       "      <td>...</td>\n",
       "    </tr>\n",
       "    <tr>\n",
       "      <th>AC233755.2</th>\n",
       "      <td>ENSG00000277856</td>\n",
       "      <td>Gene Expression</td>\n",
       "      <td>GRCh38</td>\n",
       "      <td>AC233755.2</td>\n",
       "    </tr>\n",
       "    <tr>\n",
       "      <th>AC233755.1</th>\n",
       "      <td>ENSG00000275063</td>\n",
       "      <td>Gene Expression</td>\n",
       "      <td>GRCh38</td>\n",
       "      <td>AC233755.1</td>\n",
       "    </tr>\n",
       "    <tr>\n",
       "      <th>AC240274.1</th>\n",
       "      <td>ENSG00000271254</td>\n",
       "      <td>Gene Expression</td>\n",
       "      <td>GRCh38</td>\n",
       "      <td>AC240274.1</td>\n",
       "    </tr>\n",
       "    <tr>\n",
       "      <th>AC213203.1</th>\n",
       "      <td>ENSG00000277475</td>\n",
       "      <td>Gene Expression</td>\n",
       "      <td>GRCh38</td>\n",
       "      <td>AC213203.1</td>\n",
       "    </tr>\n",
       "    <tr>\n",
       "      <th>FAM231C</th>\n",
       "      <td>ENSG00000268674</td>\n",
       "      <td>Gene Expression</td>\n",
       "      <td>GRCh38</td>\n",
       "      <td>FAM231C</td>\n",
       "    </tr>\n",
       "  </tbody>\n",
       "</table>\n",
       "<p>33538 rows × 4 columns</p>\n",
       "</div>"
      ],
      "text/plain": [
       "                    gene_ids    feature_types  genome feature_name\n",
       "MIR1302-2HG  ENSG00000243485  Gene Expression  GRCh38  MIR1302-2HG\n",
       "FAM138A      ENSG00000237613  Gene Expression  GRCh38      FAM138A\n",
       "OR4F5        ENSG00000186092  Gene Expression  GRCh38        OR4F5\n",
       "AL627309.1   ENSG00000238009  Gene Expression  GRCh38   AL627309.1\n",
       "AL627309.3   ENSG00000239945  Gene Expression  GRCh38   AL627309.3\n",
       "...                      ...              ...     ...          ...\n",
       "AC233755.2   ENSG00000277856  Gene Expression  GRCh38   AC233755.2\n",
       "AC233755.1   ENSG00000275063  Gene Expression  GRCh38   AC233755.1\n",
       "AC240274.1   ENSG00000271254  Gene Expression  GRCh38   AC240274.1\n",
       "AC213203.1   ENSG00000277475  Gene Expression  GRCh38   AC213203.1\n",
       "FAM231C      ENSG00000268674  Gene Expression  GRCh38      FAM231C\n",
       "\n",
       "[33538 rows x 4 columns]"
      ]
     },
     "execution_count": 13,
     "metadata": {},
     "output_type": "execute_result"
    }
   ],
   "source": [
    "original_adata.xenium_spot_data.var"
   ]
  },
  {
   "cell_type": "code",
   "execution_count": 32,
   "metadata": {},
   "outputs": [
    {
     "name": "stderr",
     "output_type": "stream",
     "text": [
      "/tmp/ipykernel_1403493/3209538980.py:9: FutureWarning: Series.__getitem__ treating keys as positions is deprecated. In a future version, integer keys will always be treated as labels (consistent with DataFrame behavior). To access a value by position, use `ser.iloc[pos]`\n",
      "  cluster_grid[rows, columns] = torch.tensor(original_adata.xenium_spot_data.obs[\"Region\"].cat.codes.values.astype(int)) + 1\n",
      "/tmp/ipykernel_1403493/3209538980.py:11: MatplotlibDeprecationWarning: The get_cmap function was deprecated in Matplotlib 3.7 and will be removed in 3.11. Use ``matplotlib.colormaps[name]`` or ``matplotlib.colormaps.get_cmap()`` or ``pyplot.get_cmap()`` instead.\n",
      "  colors = plt.cm.get_cmap('viridis', num_clusters + 1)\n"
     ]
    },
    {
     "data": {
      "text/plain": [
       "Text(0.5, 1.0, 'Ground Truth Regions of DLPFC')"
      ]
     },
     "execution_count": 32,
     "metadata": {},
     "output_type": "execute_result"
    },
    {
     "data": {
      "image/png": "[encoded data removed]",
      "text/plain": [
       "<Figure size 600x600 with 2 Axes>"
      ]
     },
     "metadata": {},
     "output_type": "display_data"
    }
   ],
   "source": [
    "rows = spatial_locations[\"row\"].astype(int)\n",
    "columns = spatial_locations[\"col\"].astype(int)\n",
    "\n",
    "num_rows = max(rows) + 1\n",
    "num_cols = max(columns) + 1\n",
    "\n",
    "cluster_grid = torch.zeros((num_rows, num_cols), dtype=torch.long)\n",
    "\n",
    "cluster_grid[rows, columns] = torch.tensor(original_adata.xenium_spot_data.obs[\"Region\"].cat.codes.values.astype(int)) + 1\n",
    "\n",
    "colors = plt.cm.get_cmap('viridis', num_clusters + 1)\n",
    "# Creating a medium gray color for the background\n",
    "grey_color = [0.5, 0.5, 0.5, 1]  # RGB values for medium gray with full opacity\n",
    "colormap_colors = np.vstack((grey_color, colors(np.linspace(0, 1, num_clusters))))\n",
    "colormap = ListedColormap(colormap_colors)\n",
    "\n",
    "plt.figure(figsize=(6, 6))\n",
    "plt.imshow(cluster_grid.cpu(), cmap=colormap, interpolation='nearest', origin='lower')\n",
    "plt.colorbar(ticks=range(1, num_clusters + 1), label='Cluster Values')\n",
    "plt.title('Ground Truth Regions of DLPFC')"
   ]
  },
  {
   "cell_type": "code",
   "execution_count": 19,
   "metadata": {},
   "outputs": [
    {
     "data": {
      "text/plain": [
       "array([1, 3, 0, ..., 3, 2, 0], dtype=int8)"
      ]
     },
     "execution_count": 19,
     "metadata": {},
     "output_type": "execute_result"
    }
   ],
   "source": []
  },
  {
   "cell_type": "code",
   "execution_count": null,
   "metadata": {},
   "outputs": [],
   "source": []
  }
 ],
 "metadata": {
  "kernelspec": {
   "display_name": "diff-i93oUBlF-py3.10",
   "language": "python",
   "name": "python3"
  },
  "language_info": {
   "codemirror_mode": {
    "name": "ipython",
    "version": 3
   },
   "file_extension": ".py",
   "mimetype": "text/x-python",
   "name": "python",
   "nbconvert_exporter": "python",
   "pygments_lexer": "ipython3",
   "version": "3.10.12"
  }
 },
 "nbformat": 4,
 "nbformat_minor": 2
}
