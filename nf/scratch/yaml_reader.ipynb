{
 "cells": [
  {
   "cell_type": "code",
   "execution_count": 1,
   "metadata": {},
   "outputs": [],
   "source": [
    "import yaml"
   ]
  },
  {
   "cell_type": "code",
   "execution_count": 5,
   "metadata": {},
   "outputs": [
    {
     "data": {
      "text/plain": [
       "{'VI': {'empirical_prior': True,\n",
       "  'gamma': 2.5,\n",
       "  'learn_global_variances': False,\n",
       "  'min_concentration': 0.001,\n",
       "  'num_particles': 25,\n",
       "  'num_posterior_samples': 2500,\n",
       "  'num_prior_samples': 100},\n",
       " 'data': {'data_dimension': 5,\n",
       "  'dataset': 'SYNTHETIC',\n",
       "  'init_method': 'K-Means',\n",
       "  'neighborhood_agg': 'mean',\n",
       "  'neighborhood_size': 1,\n",
       "  'num_clusters': 7,\n",
       "  'num_pcs': 3,\n",
       "  'resolution': 0.47},\n",
       " 'flows': {'batch_size': 512,\n",
       "  'flow_length': 32,\n",
       "  'flow_type': 'NSF',\n",
       "  'hidden_layers': [512, 512, 512],\n",
       "  'lr': 0.001,\n",
       "  'num_epochs': 1,\n",
       "  'patience': 25}}"
      ]
     },
     "execution_count": 5,
     "metadata": {},
     "output_type": "execute_result"
    }
   ],
   "source": [
    "with open('../config/config_test/config444.yaml', 'r') as file:\n",
    "    example = yaml.safe_load(file)\n",
    "\n",
    "example"
   ]
  },
  {
   "cell_type": "code",
   "execution_count": null,
   "metadata": {},
   "outputs": [],
   "source": []
  }
 ],
 "metadata": {
  "kernelspec": {
   "display_name": "diff-i93oUBlF-py3.10",
   "language": "python",
   "name": "python3"
  },
  "language_info": {
   "codemirror_mode": {
    "name": "ipython",
    "version": 3
   },
   "file_extension": ".py",
   "mimetype": "text/x-python",
   "name": "python",
   "nbconvert_exporter": "python",
   "pygments_lexer": "ipython3",
   "version": "3.10.12"
  }
 },
 "nbformat": 4,
 "nbformat_minor": 2
}
