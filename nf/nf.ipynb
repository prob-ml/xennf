{
 "cells": [
  {
   "cell_type": "code",
   "execution_count": 1,
   "metadata": {},
   "outputs": [
    {
     "name": "stderr",
     "output_type": "stream",
     "text": [
      "/home/roko/.cache/pypoetry/virtualenvs/diff-i93oUBlF-py3.10/lib/python3.10/site-packages/tqdm/auto.py:21: TqdmWarning: IProgress not found. Please update jupyter and ipywidgets. See https://ipywidgets.readthedocs.io/en/stable/user_install.html\n",
      "  from .autonotebook import tqdm as notebook_tqdm\n"
     ]
    }
   ],
   "source": [
    "# PyTorch and Pyro imports\n",
    "import torch\n",
    "import zuko\n",
    "import numpy as np\n",
    "from torch import Size, Tensor\n",
    "import pyro\n",
    "from pyro.infer import SVI, Trace_ELBO, TraceMeanField_ELBO\n",
    "from pyro.optim import Adam, PyroOptim\n",
    "from pyro.infer.mcmc.mcmc_kernel import MCMCKernel\n",
    "import pyro.distributions as dist\n",
    "import pyro.distributions.transforms as T\n",
    "from pyro.distributions.transforms import Spline, ComposeTransform\n",
    "from pyro.distributions import TransformedDistribution\n",
    "\n",
    "# Utility imports\n",
    "import GPUtil\n",
    "import math\n",
    "from tqdm import tqdm\n",
    "import matplotlib.pyplot as plt\n",
    "from utils import ARI, NMI\n",
    "\n",
    "# Custom module imports\n",
    "from xenium_cluster import XeniumCluster\n",
    "from data import prepare_DLPFC_data, prepare_synthetic_data, prepare_Xenium_data\n",
    "from zuko_flow import setup_zuko_flow"
   ]
  },
  {
   "cell_type": "code",
   "execution_count": 2,
   "metadata": {},
   "outputs": [],
   "source": [
    "class ZukoToPyro(pyro.distributions.TorchDistribution):\n",
    "    r\"\"\"Wraps a Zuko distribution as a Pyro distribution.\n",
    "\n",
    "    If ``dist`` has an ``rsample_and_log_prob`` method, like Zuko's flows, it will be\n",
    "    used when sampling instead of ``rsample``. The returned log density will be cached\n",
    "    for later scoring.\n",
    "\n",
    "    :param dist: A distribution instance.\n",
    "    :type dist: torch.distributions.Distribution\n",
    "\n",
    "    .. code-block:: python\n",
    "\n",
    "        flow = zuko.flows.MAF(features=5)\n",
    "\n",
    "        # flow() is a torch.distributions.Distribution\n",
    "\n",
    "        dist = flow()\n",
    "        x = dist.sample((2, 3))\n",
    "        log_p = dist.log_prob(x)\n",
    "\n",
    "        # ZukoToPyro(flow()) is a pyro.distributions.Distribution\n",
    "\n",
    "        dist = ZukoToPyro(flow())\n",
    "        x = dist((2, 3))\n",
    "        log_p = dist.log_prob(x)\n",
    "\n",
    "        with pyro.plate(\"data\", 42):\n",
    "            z = pyro.sample(\"z\", dist)\n",
    "    \"\"\"\n",
    "\n",
    "    def __init__(self, dist: torch.distributions.Distribution):\n",
    "        self.dist = dist\n",
    "        self.cache = {}\n",
    "\n",
    "    @property\n",
    "    def has_rsample(self) -> bool:\n",
    "        return self.dist.has_rsample\n",
    "\n",
    "    @property\n",
    "    def event_shape(self) -> Size:\n",
    "        return self.dist.event_shape\n",
    "\n",
    "    @property\n",
    "    def batch_shape(self) -> Size:\n",
    "        return self.dist.batch_shape\n",
    "\n",
    "    def __call__(self, shape: Size = ()) -> Tensor:\n",
    "        if hasattr(self.dist, \"rsample_and_log_prob\"):  # fast sampling + scoring\n",
    "            x, self.cache[x] = self.dist.rsample_and_log_prob(shape)\n",
    "        # elif self.has_rsample:\n",
    "        #     x = self.dist.rsample(shape)\n",
    "        else:\n",
    "            x = self.dist.sample(shape)\n",
    "\n",
    "        return x\n",
    "\n",
    "    def log_prob(self, x: Tensor) -> Tensor:\n",
    "        if x in self.cache:\n",
    "            return self.cache[x]\n",
    "        else:\n",
    "            return self.dist.log_prob(x)\n",
    "\n",
    "    def expand(self, *args, **kwargs):\n",
    "        return ZukoToPyro(self.dist.expand(*args, **kwargs))"
   ]
  },
  {
   "cell_type": "markdown",
   "metadata": {},
   "source": [
    "# Potts Prior"
   ]
  },
  {
   "cell_type": "markdown",
   "metadata": {},
   "source": [
    "The Potts prior is a prior distribution of cluster assignments given neighboring states. The general form of the Potts model is $$\\pi(z_i) \\propto \\exp \\left( \\sum_i H(z_i) + \\sum_{(i,j) \\in G} J(z_i, z_j)\\right)$$. H is the local potention representing some external influence of bias on the spot i. J is the interaction energy between neighboring sites. This represents the neighboring signals of spots, which is how we enforce the spatial clustering. The BayesSpace formulation feels like a more natural representation of this concept. $$\\pi(z_i) \\propto \\exp \\left( \\frac{\\gamma}{\\langle ij \\rangle} * 2\\sum_{\\langle ij \\rangle} I(z_i = z_j)\\right)$$ $\\gamma$ is a smoothing parameter which can be tuned to increase the spatial contiguity of spatial assignments. "
   ]
  },
  {
   "cell_type": "code",
   "execution_count": 3,
   "metadata": {},
   "outputs": [],
   "source": [
    "class Potts2D(dist.Distribution):\n",
    "\n",
    "    def __init__(self, current_state, batch_idx, num_clusters=7, radius=1, gamma=1.5):\n",
    "        super().__init__()\n",
    "        self.current_state = current_state\n",
    "        self.batch_idx = batch_idx\n",
    "        self.num_clusters = num_clusters\n",
    "        self.radius = radius\n",
    "        self.gamma = gamma\n",
    "        self.num_rows, self.num_cols = current_state.shape\n",
    "\n",
    "    @property\n",
    "    def batch_shape(self):\n",
    "        # The shape of the grid\n",
    "        return torch.Size([len(self.batch_idx)])\n",
    "\n",
    "    @property\n",
    "    def event_shape(self):\n",
    "        # No event dimensions (this is over the whole grid)\n",
    "        return torch.Size([])\n",
    "\n",
    "    def expand(self, batch_shape, _instance=None):\n",
    "        # Create a new instance of Potts2D with the same parameters but a new batch shape\n",
    "        new_instance = Potts2D(\n",
    "            current_state=self.current_state,\n",
    "            batch_idx=self.batch_idx,\n",
    "            num_clusters=self.num_clusters,\n",
    "            radius=self.radius,\n",
    "            gamma=self.gamma,\n",
    "        )\n",
    "        return new_instance\n",
    "\n",
    "    def __call__(self):\n",
    "        return self.sample()\n",
    "\n",
    "    def get_neighbors(self, i, j):\n",
    "        neighbors = []\n",
    "        for x in range(max(0, i - self.radius), min(self.current_state.shape[0], i + self.radius + 1)):\n",
    "            for y in range(max(0, j - self.radius), min(self.current_state.shape[1], j + self.radius + 1)):\n",
    "                if abs(x - i) + abs(y - j) <= self.radius:\n",
    "                    neighbors.append((x, y))\n",
    "        return neighbors\n",
    "\n",
    "    def sample(self):\n",
    "        num_rows, num_cols = self.current_state.shape\n",
    "\n",
    "        new_state = self.current_state.clone() \n",
    "        new_soft_state = torch.zeros(new_state.size(0), new_state.size(1), self.num_clusters)\n",
    "        \n",
    "        for i in range(num_rows):\n",
    "            for j in range(num_cols):\n",
    "            # Compute conditional probabilities for site i\n",
    "                probs = torch.zeros(self.num_clusters)\n",
    "                for k in range(1, self.num_clusters + 1):\n",
    "                    # Compute the contribution of neighbors\n",
    "                    probs[k-1] = torch.sum(\n",
    "                        torch.tensor(\n",
    "                            [2 * self.gamma if new_state[a][b] == k else 0.0 for (a, b) in self.get_neighbors(i, j)]\n",
    "                        )\n",
    "                    )\n",
    "                \n",
    "                # Normalize to get valid probabilities\n",
    "                probs = torch.exp(probs - torch.max(probs))  # Avoid numerical issues\n",
    "                probs /= probs.sum()\n",
    "                new_soft_state[i][j] = probs\n",
    "                new_state[i][j] = torch.multinomial(probs, 1).item()\n",
    "\n",
    "        self.current_state = new_state\n",
    "        \n",
    "        return new_soft_state.reshape(-1, self.num_clusters)[self.batch_idx]\n",
    "\n",
    "    def log_prob(self, cluster_probs):\n",
    "\n",
    "        cluster_state_flattened = self.current_state.reshape(-1,1)[self.batch_idx]\n",
    "\n",
    "        # -1 is for indexing purposes. The 0 cluster is for empty cells.\n",
    "        # print(cluster_probs.shape)\n",
    "        # print(range(cluster_state_flattened.size(0)))\n",
    "        # print(cluster_state_flattened.flatten() - 1)\n",
    "        cluster_prob_tensor = cluster_probs[range(cluster_state_flattened.size(0)), cluster_state_flattened.flatten() - 1]\n",
    "\n",
    "        log_prob_tensor = torch.log(cluster_prob_tensor)\n",
    "        \n",
    "        return log_prob_tensor  # Return the sum of all values in log_prob_tensor"
   ]
  },
  {
   "cell_type": "markdown",
   "metadata": {},
   "source": [
    "# Data Construction"
   ]
  },
  {
   "cell_type": "markdown",
   "metadata": {},
   "source": [
    "We use the simulated dataset from the BayXenSmooth paper as an initial assessment of our idea. To make this happen we need to load in the data."
   ]
  },
  {
   "cell_type": "code",
   "execution_count": 4,
   "metadata": {},
   "outputs": [],
   "source": [
    "# Data Properties\n",
    "batch_size = 256\n",
    "data_dimension = 25\n",
    "num_clusters = 7\n",
    "learn_global_variances = False"
   ]
  },
  {
   "cell_type": "code",
   "execution_count": 5,
   "metadata": {},
   "outputs": [
    {
     "data": {
      "image/png": "[encoded data removed]",
      "text/plain": [
       "<Figure size 600x600 with 2 Axes>"
      ]
     },
     "metadata": {},
     "output_type": "display_data"
    }
   ],
   "source": [
    "gene_data, spatial_locations, original_adata, TRUE_PRIOR_WEIGHTS = prepare_synthetic_data(num_clusters=num_clusters, data_dimension=data_dimension)\n",
    "prior_means = torch.zeros(num_clusters, gene_data.shape[1])\n",
    "prior_scales = torch.ones(num_clusters, gene_data.shape[1])"
   ]
  },
  {
   "cell_type": "code",
   "execution_count": 6,
   "metadata": {},
   "outputs": [],
   "source": [
    "data = torch.tensor(gene_data).float()\n",
    "num_obs, data_dim = data.shape"
   ]
  },
  {
   "cell_type": "markdown",
   "metadata": {},
   "source": [
    "# Variational Inference"
   ]
  },
  {
   "cell_type": "markdown",
   "metadata": {},
   "source": [
    "Objective: Given a Potts model for the prior and a GMM for the likelihood, how can we get a good posterior? \n",
    "\n",
    "In BayXenSmooth, we attempted to do this via an SVI framework where the posterior was approximated by another distribution with a desired paramteric form. This can be useful, but we want to model more complicated posteriors. This is where normalizing flows come in. By learning the posterior outcomes with complicated flows, we can plug in the flow as a variational distribution and train the variational inference procedure in a similar backprop way."
   ]
  },
  {
   "cell_type": "markdown",
   "metadata": {},
   "source": [
    "### Prior and Likelihood Calculations"
   ]
  },
  {
   "cell_type": "markdown",
   "metadata": {},
   "source": [
    "Right now, we're re-using the old janky empirical prior that BayXenSmooth used. Eventually, the Potts model will be integrated. For now, the objective is to see how spatially contiguous spatial clusters look."
   ]
  },
  {
   "cell_type": "code",
   "execution_count": 7,
   "metadata": {},
   "outputs": [],
   "source": [
    "# Global Params to Set\n",
    "neighborhood_size = 1\n",
    "neighborhood_agg = \"mean\"\n",
    "num_pcs = 3\n",
    "\n",
    "def custom_cluster_initialization(original_adata, method, K=17):\n",
    "\n",
    "    original_adata.generate_neighborhood_graph(original_adata.xenium_spot_data, plot_pcas=False)\n",
    "\n",
    "    # This function initializes clusters based on the specified method\n",
    "    if method == \"K-Means\":\n",
    "        initial_clusters = original_adata.KMeans(original_adata.xenium_spot_data, save_plot=False, K=K, include_spatial=False)\n",
    "    elif method == \"Hierarchical\":\n",
    "        initial_clusters = original_adata.Hierarchical(original_adata.xenium_spot_data, save_plot=True, num_clusters=K)\n",
    "    elif method == \"Leiden\":\n",
    "        initial_clusters = original_adata.Leiden(original_adata.xenium_spot_data, resolutions=[0.35], save_plot=False, K=K)[0.35]\n",
    "    elif method == \"Louvain\":\n",
    "        initial_clusters = original_adata.Louvain(original_adata.xenium_spot_data, resolutions=[0.35], save_plot=False, K=K)[0.35]\n",
    "    elif method == \"mclust\":\n",
    "        original_adata.pca(original_adata.xenium_spot_data, num_pcs)\n",
    "        initial_clusters = original_adata.mclust(original_adata.xenium_spot_data, G=K, model_name = \"EEE\")\n",
    "    elif method == \"random\":\n",
    "        initial_clusters = np.random.randint(0, K, size=original_adata.xenium_spot_data.X.shape[0])\n",
    "    else:\n",
    "        raise ValueError(f\"Unknown method: {method}\")\n",
    "\n",
    "    return initial_clusters"
   ]
  },
  {
   "cell_type": "code",
   "execution_count": 8,
   "metadata": {},
   "outputs": [
    {
     "name": "stderr",
     "output_type": "stream",
     "text": [
      "/home/roko/.cache/pypoetry/virtualenvs/diff-i93oUBlF-py3.10/lib/python3.10/site-packages/numba/np/ufunc/parallel.py:371: NumbaWarning: The TBB threading layer requires TBB version 2021 update 6 or later i.e., TBB_INTERFACE_VERSION >= 12060. Found TBB_INTERFACE_VERSION = 12050. The TBB threading layer is disabled.\n",
      "  warnings.warn(problem)\n",
      "/home/roko/diff/nf/xenium_cluster.py:364: FutureWarning: Series.__getitem__ treating keys as positions is deprecated. In a future version, integer keys will always be treated as labels (consistent with DataFrame behavior). To access a value by position, use `ser.iloc[pos]`\n",
      "  rows = torch.tensor(data.obs[\"row\"].astype(int))\n",
      "/home/roko/diff/nf/xenium_cluster.py:365: FutureWarning: Series.__getitem__ treating keys as positions is deprecated. In a future version, integer keys will always be treated as labels (consistent with DataFrame behavior). To access a value by position, use `ser.iloc[pos]`\n",
      "  cols = torch.tensor(data.obs[\"col\"].astype(int))\n",
      "/home/roko/diff/nf/xenium_cluster.py:366: FutureWarning: Series.__getitem__ treating keys as positions is deprecated. In a future version, integer keys will always be treated as labels (consistent with DataFrame behavior). To access a value by position, use `ser.iloc[pos]`\n",
      "  clusters = torch.tensor(data.obs[\"cluster\"].astype(int))\n",
      "/home/roko/diff/nf/xenium_cluster.py:374: UserWarning: To copy construct from a tensor, it is recommended to use sourceTensor.clone().detach() or sourceTensor.clone().detach().requires_grad_(True), rather than torch.tensor(sourceTensor).\n",
      "  cluster_grid[rows, cols] = torch.tensor(clusters, dtype=torch.int) + 1\n"
     ]
    },
    {
     "name": "stdout",
     "output_type": "stream",
     "text": [
      "K-Means Metrics:  {'ARI': 0.99, 'NMI': 0.98}\n"
     ]
    },
    {
     "name": "stderr",
     "output_type": "stream",
     "text": [
      "100%|██████████| 2500/2500 [00:00<00:00, 30377.57it/s]\n",
      "/tmp/ipykernel_3596661/1352025234.py:88: FutureWarning: Series.__getitem__ treating keys as positions is deprecated. In a future version, integer keys will always be treated as labels (consistent with DataFrame behavior). To access a value by position, use `ser.iloc[pos]`\n",
      "  cluster_grid_PRIOR[rows, columns] = cluster_assignments_prior + 1\n",
      "/tmp/ipykernel_3596661/1352025234.py:90: MatplotlibDeprecationWarning: The get_cmap function was deprecated in Matplotlib 3.7 and will be removed in 3.11. Use ``matplotlib.colormaps[name]`` or ``matplotlib.colormaps.get_cmap()`` or ``pyplot.get_cmap()`` instead.\n",
      "  colors = plt.cm.get_cmap('viridis', num_clusters)\n"
     ]
    },
    {
     "data": {
      "image/png": "[encoded data removed]",
      "text/plain": [
       "<Figure size 600x600 with 2 Axes>"
      ]
     },
     "metadata": {},
     "output_type": "display_data"
    },
    {
     "data": {
      "image/png": "[encoded data removed]",
      "text/plain": [
       "<Figure size 600x600 with 2 Axes>"
      ]
     },
     "metadata": {},
     "output_type": "display_data"
    },
    {
     "data": {
      "image/png": "[encoded data removed]",
      "text/plain": [
       "<Figure size 600x600 with 2 Axes>"
      ]
     },
     "metadata": {},
     "output_type": "display_data"
    }
   ],
   "source": [
    "from sklearn.preprocessing import StandardScaler\n",
    "from scipy.spatial import KDTree\n",
    "\n",
    "# Clamping\n",
    "MIN_CONCENTRATION = 0.01\n",
    "\n",
    "num_posterior_samples = 10\n",
    "\n",
    "spatial_init_data = StandardScaler().fit_transform(gene_data)\n",
    "gene_data = StandardScaler().fit_transform(gene_data)\n",
    "empirical_prior_means = torch.zeros(num_clusters, spatial_init_data.shape[1])\n",
    "empirical_prior_scales = torch.ones(num_clusters, spatial_init_data.shape[1])\n",
    "\n",
    "rows = spatial_locations[\"row\"].astype(int)\n",
    "columns = spatial_locations[\"col\"].astype(int)\n",
    "\n",
    "num_rows = max(rows) + 1\n",
    "num_cols = max(columns) + 1\n",
    "\n",
    "initial_clusters = custom_cluster_initialization(original_adata, \"K-Means\", K=num_clusters)\n",
    "\n",
    "ari = ARI(initial_clusters, TRUE_PRIOR_WEIGHTS.argmax(axis=-1))\n",
    "nmi = NMI(initial_clusters, TRUE_PRIOR_WEIGHTS.argmax(axis=-1))\n",
    "cluster_metrics = {\n",
    "    \"ARI\": round(ari, 2),\n",
    "    \"NMI\": round(nmi, 2)\n",
    "}\n",
    "print(\"K-Means Metrics: \", cluster_metrics)\n",
    "\n",
    "for i in range(num_clusters):\n",
    "    cluster_data = gene_data[initial_clusters == i]\n",
    "    if cluster_data.size > 0:  # Check if there are any elements in the cluster_data\n",
    "        empirical_prior_means[i] = torch.tensor(cluster_data.mean(axis=0))\n",
    "        empirical_prior_scales[i] = torch.tensor(cluster_data.std(axis=0))\n",
    "cluster_probs_prior = torch.zeros((initial_clusters.shape[0], num_clusters))\n",
    "cluster_probs_prior[torch.arange(initial_clusters.shape[0]), initial_clusters - 1] = 1.\n",
    "\n",
    "locations_tensor = torch.tensor(spatial_locations.to_numpy())\n",
    "\n",
    "# Compute the number of elements in each dimension\n",
    "num_spots = cluster_probs_prior.shape[0]\n",
    "\n",
    "# Initialize an empty tensor for spatial concentration priors\n",
    "spatial_cluster_probs_prior = torch.zeros_like(cluster_probs_prior, dtype=torch.float64)\n",
    "\n",
    "spot_locations = KDTree(locations_tensor.cpu())  # Ensure this tensor is in host memory\n",
    "neighboring_spot_indexes = spot_locations.query_ball_point(locations_tensor.cpu(), r=neighborhood_size, p=1, workers=8)\n",
    "\n",
    "# Iterate over each spot\n",
    "for i in tqdm(range(num_spots)):\n",
    "\n",
    "    # Select priors in the neighborhood\n",
    "    priors_in_neighborhood = cluster_probs_prior[neighboring_spot_indexes[i]]\n",
    "\n",
    "    # Compute the sum or mean, or apply a custom weighting function\n",
    "    if neighborhood_agg == \"mean\":\n",
    "        neighborhood_priors = priors_in_neighborhood.mean(dim=0)\n",
    "    else:\n",
    "        locations = original_adata.xenium_spot_data.obs[[\"x_location\", \"y_location\", \"z_location\"]].values\n",
    "        neighboring_locations = locations[neighboring_spot_indexes[i]].astype(float)\n",
    "        distances = torch.tensor(np.linalg.norm(neighboring_locations - locations[i], axis=1))\n",
    "        def distance_weighting(x):\n",
    "            weight = 1/(1 + x/1)\n",
    "            # print(weight)\n",
    "            return weight / weight.sum()\n",
    "        neighborhood_priors = (priors_in_neighborhood * distance_weighting(distances).reshape(-1, 1)).sum(dim=0)\n",
    "    # Update the cluster probabilities\n",
    "    spatial_cluster_probs_prior[i] += neighborhood_priors\n",
    "\n",
    "spatial_cluster_probs_prior = spatial_cluster_probs_prior.clamp(MIN_CONCENTRATION)\n",
    "sample_for_assignment_options = [True, False]\n",
    "\n",
    "num_prior_samples = 10\n",
    "for sample_for_assignment in sample_for_assignment_options:\n",
    "\n",
    "    if sample_for_assignment:\n",
    "        cluster_assignments_prior_TRUE = pyro.sample(\"cluster_assignments\", dist.Categorical(spatial_cluster_probs_prior).expand_by([num_prior_samples])).detach().mode(dim=0).values\n",
    "        cluster_assignments_prior = cluster_assignments_prior_TRUE\n",
    "    else:\n",
    "        cluster_assignments_prior_FALSE = spatial_cluster_probs_prior.argmax(dim=1)\n",
    "        cluster_assignments_prior = cluster_assignments_prior_FALSE\n",
    "\n",
    "    # Load the data\n",
    "    data = torch.tensor(gene_data).float()\n",
    "\n",
    "    cluster_grid_PRIOR = torch.zeros((num_rows, num_cols), dtype=torch.long)\n",
    "\n",
    "    cluster_grid_PRIOR[rows, columns] = cluster_assignments_prior + 1\n",
    "\n",
    "    colors = plt.cm.get_cmap('viridis', num_clusters)\n",
    "\n",
    "    plt.figure(figsize=(6, 6))\n",
    "    plt.imshow(cluster_grid_PRIOR.cpu(), cmap=colors, interpolation='nearest', origin='lower')\n",
    "    plt.colorbar(ticks=range(1, num_clusters + 1), label='Cluster Values')\n",
    "    plt.title('Prior Cluster Assignment with BayXenSmooth')"
   ]
  },
  {
   "cell_type": "code",
   "execution_count": 9,
   "metadata": {},
   "outputs": [
    {
     "data": {
      "text/plain": [
       "torch.Size([9, 7])"
      ]
     },
     "execution_count": 9,
     "metadata": {},
     "output_type": "execute_result"
    }
   ],
   "source": [
    "cluster_states = cluster_grid_PRIOR.clone()\n",
    "cluster_probs = Potts2D(cluster_states, range(9))\n",
    "cluster_probs().shape"
   ]
  },
  {
   "cell_type": "code",
   "execution_count": 10,
   "metadata": {},
   "outputs": [],
   "source": [
    "torch.set_printoptions(sci_mode=False)\n",
    "NUM_PARTICLES = 5\n",
    "\n",
    "expected_total_param_dim = 2 # K x D\n",
    "cluster_states = cluster_grid_PRIOR.clone()\n",
    "\n",
    "def model(data):\n",
    "\n",
    "    global cluster_states\n",
    "\n",
    "    with pyro.plate(\"clusters\", num_clusters):\n",
    "\n",
    "        # Define the means and variances of the Gaussian components\n",
    "        cluster_means = pyro.sample(\"cluster_means\", dist.Normal(prior_means, 10.0).to_event(1))\n",
    "        cluster_scales = pyro.sample(\"cluster_scales\", dist.LogNormal(prior_scales, 10.0).to_event(1))\n",
    "\n",
    "    # Define priors for the cluster assignment probabilities and Gaussian parameters\n",
    "    with pyro.plate(\"data\", len(data), subsample_size=batch_size) as ind:\n",
    "        batch_data = data[ind]\n",
    "        \n",
    "        prior_dist = Potts2D(cluster_states, ind, radius=neighborhood_size, num_clusters=num_clusters)\n",
    "        cluster_probs = pyro.sample(\"cluster_probs\", prior_dist)\n",
    "        cluster_states = prior_dist.current_state\n",
    "        # likelihood for batch\n",
    "        if cluster_means.dim() == expected_total_param_dim:\n",
    "            pyro.sample(f\"obs\", dist.MixtureOfDiagNormals(\n",
    "                    cluster_means.unsqueeze(0).expand(batch_size, -1, -1), \n",
    "                    cluster_scales.unsqueeze(0).expand(batch_size, -1, -1), \n",
    "                    cluster_probs\n",
    "                ), \n",
    "                obs=batch_data\n",
    "            )\n",
    "        # likelihood for batch WITH vectorization of particles\n",
    "        else:\n",
    "            pyro.sample(f\"obs\", dist.MixtureOfDiagNormals(\n",
    "                    cluster_means.unsqueeze(1).expand(-1, batch_size, -1, -1), \n",
    "                    cluster_scales.unsqueeze(1).expand(-1, batch_size, -1, -1), \n",
    "                    cluster_probs\n",
    "                ), \n",
    "                obs=batch_data\n",
    "            )"
   ]
  },
  {
   "cell_type": "markdown",
   "metadata": {},
   "source": [
    "### Variational Guide"
   ]
  },
  {
   "cell_type": "code",
   "execution_count": 11,
   "metadata": {},
   "outputs": [],
   "source": [
    "cluster_probs_flow_dist = setup_zuko_flow(\n",
    "    flow_type=\"MAF\",\n",
    "    flow_length=3,\n",
    "    num_clusters=num_clusters,\n",
    "    context_length=data_dim,\n",
    "    hidden_layers=(128, 128)\n",
    ")\n",
    "\n",
    "def guide(data):\n",
    "    \n",
    "    pyro.module(\"posterior_flow\", cluster_probs_flow_dist)\n",
    "\n",
    "    with pyro.plate(\"clusters\", num_clusters):\n",
    "        # Global variational parameters for cluster means and scales\n",
    "        cluster_means_q_mean = pyro.param(\"cluster_means_q_mean\", prior_means + torch.randn_like(prior_means) * 0.05)\n",
    "        cluster_scales_q_mean = pyro.param(\"cluster_scales_q_mean\", prior_scales + torch.randn_like(prior_scales) * 0.01, constraint=dist.constraints.positive)\n",
    "        if learn_global_variances:\n",
    "            cluster_means_q_scale = pyro.param(\"cluster_means_q_scale\", torch.ones_like(prior_means) * 1.0, constraint=dist.constraints.positive)\n",
    "            cluster_scales_q_scale = pyro.param(\"cluster_scales_q_scale\", torch.ones_like(prior_scales) * 0.25, constraint=dist.constraints.positive)\n",
    "            cluster_means = pyro.sample(\"cluster_means\", dist.Normal(cluster_means_q_mean, cluster_means_q_scale).to_event(1))\n",
    "            cluster_scales = pyro.sample(\"cluster_scales\", dist.LogNormal(cluster_scales_q_mean, cluster_scales_q_scale).to_event(1))\n",
    "        else:\n",
    "            cluster_means = pyro.sample(\"cluster_means\", dist.Delta(cluster_means_q_mean).to_event(1))\n",
    "            cluster_scales = pyro.sample(\"cluster_scales\", dist.Delta(cluster_scales_q_mean).to_event(1))\n",
    "\n",
    "    with pyro.plate(\"data\", len(data), subsample_size=batch_size) as ind:\n",
    "        batch_data = data[ind]\n",
    "\n",
    "        cluster_logits = pyro.sample(\"cluster_logits\", ZukoToPyro(cluster_probs_flow_dist(batch_data)), infer={'is_auxiliary': True})\n",
    "        temperature = pyro.param(\n",
    "            \"temperature\",\n",
    "            torch.tensor(2.2),\n",
    "            constraint=dist.constraints.positive\n",
    "        )\n",
    "\n",
    "        # Sample cluster_probs using RelaxedOneHotCategorical\n",
    "        cluster_probs = pyro.sample(\n",
    "            \"cluster_probs\",\n",
    "            dist.RelaxedOneHotCategorical(temperature=temperature, logits=cluster_logits)\n",
    "        )"
   ]
  },
  {
   "cell_type": "markdown",
   "metadata": {},
   "source": [
    "# Training the Model"
   ]
  },
  {
   "cell_type": "code",
   "execution_count": 12,
   "metadata": {},
   "outputs": [
    {
     "name": "stderr",
     "output_type": "stream",
     "text": [
      "Epoch 2 : loss = 3631.5582:   0%|          | 0/2500 [04:07<?, ?it/s]"
     ]
    },
    {
     "ename": "KeyboardInterrupt",
     "evalue": "",
     "output_type": "error",
     "traceback": [
      "\u001b[0;31m---------------------------------------------------------------------------\u001b[0m",
      "\u001b[0;31mKeyboardInterrupt\u001b[0m                         Traceback (most recent call last)",
      "Cell \u001b[0;32mIn[12], line 27\u001b[0m\n\u001b[1;32m     25\u001b[0m running_loss \u001b[38;5;241m=\u001b[39m \u001b[38;5;241m0.0\u001b[39m\n\u001b[1;32m     26\u001b[0m \u001b[38;5;28;01mfor\u001b[39;00m step \u001b[38;5;129;01min\u001b[39;00m \u001b[38;5;28mrange\u001b[39m(NUM_BATCHES):\n\u001b[0;32m---> 27\u001b[0m     loss \u001b[38;5;241m=\u001b[39m \u001b[43msvi\u001b[49m\u001b[38;5;241;43m.\u001b[39;49m\u001b[43mstep\u001b[49m\u001b[43m(\u001b[49m\u001b[43mdata\u001b[49m\u001b[43m)\u001b[49m\n\u001b[1;32m     28\u001b[0m     running_loss \u001b[38;5;241m+\u001b[39m\u001b[38;5;241m=\u001b[39m loss \u001b[38;5;241m/\u001b[39m batch_size\n\u001b[1;32m     29\u001b[0m epoch_pbar\u001b[38;5;241m.\u001b[39mset_description(\u001b[38;5;124mf\u001b[39m\u001b[38;5;124m\"\u001b[39m\u001b[38;5;124mEpoch \u001b[39m\u001b[38;5;132;01m{\u001b[39;00mepoch\u001b[38;5;132;01m}\u001b[39;00m\u001b[38;5;124m : loss = \u001b[39m\u001b[38;5;132;01m{\u001b[39;00m\u001b[38;5;28mround\u001b[39m(running_loss,\u001b[38;5;250m \u001b[39m\u001b[38;5;241m4\u001b[39m)\u001b[38;5;132;01m}\u001b[39;00m\u001b[38;5;124m\"\u001b[39m)\n",
      "File \u001b[0;32m~/.cache/pypoetry/virtualenvs/diff-i93oUBlF-py3.10/lib/python3.10/site-packages/pyro/infer/svi.py:145\u001b[0m, in \u001b[0;36mSVI.step\u001b[0;34m(self, *args, **kwargs)\u001b[0m\n\u001b[1;32m    143\u001b[0m \u001b[38;5;66;03m# get loss and compute gradients\u001b[39;00m\n\u001b[1;32m    144\u001b[0m \u001b[38;5;28;01mwith\u001b[39;00m poutine\u001b[38;5;241m.\u001b[39mtrace(param_only\u001b[38;5;241m=\u001b[39m\u001b[38;5;28;01mTrue\u001b[39;00m) \u001b[38;5;28;01mas\u001b[39;00m param_capture:\n\u001b[0;32m--> 145\u001b[0m     loss \u001b[38;5;241m=\u001b[39m \u001b[38;5;28;43mself\u001b[39;49m\u001b[38;5;241;43m.\u001b[39;49m\u001b[43mloss_and_grads\u001b[49m\u001b[43m(\u001b[49m\u001b[38;5;28;43mself\u001b[39;49m\u001b[38;5;241;43m.\u001b[39;49m\u001b[43mmodel\u001b[49m\u001b[43m,\u001b[49m\u001b[43m \u001b[49m\u001b[38;5;28;43mself\u001b[39;49m\u001b[38;5;241;43m.\u001b[39;49m\u001b[43mguide\u001b[49m\u001b[43m,\u001b[49m\u001b[43m \u001b[49m\u001b[38;5;241;43m*\u001b[39;49m\u001b[43margs\u001b[49m\u001b[43m,\u001b[49m\u001b[43m \u001b[49m\u001b[38;5;241;43m*\u001b[39;49m\u001b[38;5;241;43m*\u001b[39;49m\u001b[43mkwargs\u001b[49m\u001b[43m)\u001b[49m\n\u001b[1;32m    147\u001b[0m params \u001b[38;5;241m=\u001b[39m \u001b[38;5;28mset\u001b[39m(\n\u001b[1;32m    148\u001b[0m     site[\u001b[38;5;124m\"\u001b[39m\u001b[38;5;124mvalue\u001b[39m\u001b[38;5;124m\"\u001b[39m]\u001b[38;5;241m.\u001b[39munconstrained() \u001b[38;5;28;01mfor\u001b[39;00m site \u001b[38;5;129;01min\u001b[39;00m param_capture\u001b[38;5;241m.\u001b[39mtrace\u001b[38;5;241m.\u001b[39mnodes\u001b[38;5;241m.\u001b[39mvalues()\n\u001b[1;32m    149\u001b[0m )\n\u001b[1;32m    151\u001b[0m \u001b[38;5;66;03m# actually perform gradient steps\u001b[39;00m\n\u001b[1;32m    152\u001b[0m \u001b[38;5;66;03m# torch.optim objects gets instantiated for any params that haven't been seen yet\u001b[39;00m\n",
      "File \u001b[0;32m~/.cache/pypoetry/virtualenvs/diff-i93oUBlF-py3.10/lib/python3.10/site-packages/pyro/infer/trace_elbo.py:157\u001b[0m, in \u001b[0;36mTrace_ELBO.loss_and_grads\u001b[0;34m(self, model, guide, *args, **kwargs)\u001b[0m\n\u001b[1;32m    153\u001b[0m     \u001b[38;5;28;01mif\u001b[39;00m trainable_params \u001b[38;5;129;01mand\u001b[39;00m \u001b[38;5;28mgetattr\u001b[39m(\n\u001b[1;32m    154\u001b[0m         surrogate_loss_particle, \u001b[38;5;124m\"\u001b[39m\u001b[38;5;124mrequires_grad\u001b[39m\u001b[38;5;124m\"\u001b[39m, \u001b[38;5;28;01mFalse\u001b[39;00m\n\u001b[1;32m    155\u001b[0m     ):\n\u001b[1;32m    156\u001b[0m         surrogate_loss_particle \u001b[38;5;241m=\u001b[39m surrogate_loss_particle \u001b[38;5;241m/\u001b[39m \u001b[38;5;28mself\u001b[39m\u001b[38;5;241m.\u001b[39mnum_particles\n\u001b[0;32m--> 157\u001b[0m         \u001b[43msurrogate_loss_particle\u001b[49m\u001b[38;5;241;43m.\u001b[39;49m\u001b[43mbackward\u001b[49m\u001b[43m(\u001b[49m\u001b[43mretain_graph\u001b[49m\u001b[38;5;241;43m=\u001b[39;49m\u001b[38;5;28;43mself\u001b[39;49m\u001b[38;5;241;43m.\u001b[39;49m\u001b[43mretain_graph\u001b[49m\u001b[43m)\u001b[49m\n\u001b[1;32m    158\u001b[0m warn_if_nan(loss, \u001b[38;5;124m\"\u001b[39m\u001b[38;5;124mloss\u001b[39m\u001b[38;5;124m\"\u001b[39m)\n\u001b[1;32m    159\u001b[0m \u001b[38;5;28;01mreturn\u001b[39;00m loss\n",
      "File \u001b[0;32m~/.cache/pypoetry/virtualenvs/diff-i93oUBlF-py3.10/lib/python3.10/site-packages/torch/_tensor.py:581\u001b[0m, in \u001b[0;36mTensor.backward\u001b[0;34m(self, gradient, retain_graph, create_graph, inputs)\u001b[0m\n\u001b[1;32m    571\u001b[0m \u001b[38;5;28;01mif\u001b[39;00m has_torch_function_unary(\u001b[38;5;28mself\u001b[39m):\n\u001b[1;32m    572\u001b[0m     \u001b[38;5;28;01mreturn\u001b[39;00m handle_torch_function(\n\u001b[1;32m    573\u001b[0m         Tensor\u001b[38;5;241m.\u001b[39mbackward,\n\u001b[1;32m    574\u001b[0m         (\u001b[38;5;28mself\u001b[39m,),\n\u001b[0;32m   (...)\u001b[0m\n\u001b[1;32m    579\u001b[0m         inputs\u001b[38;5;241m=\u001b[39minputs,\n\u001b[1;32m    580\u001b[0m     )\n\u001b[0;32m--> 581\u001b[0m \u001b[43mtorch\u001b[49m\u001b[38;5;241;43m.\u001b[39;49m\u001b[43mautograd\u001b[49m\u001b[38;5;241;43m.\u001b[39;49m\u001b[43mbackward\u001b[49m\u001b[43m(\u001b[49m\n\u001b[1;32m    582\u001b[0m \u001b[43m    \u001b[49m\u001b[38;5;28;43mself\u001b[39;49m\u001b[43m,\u001b[49m\u001b[43m \u001b[49m\u001b[43mgradient\u001b[49m\u001b[43m,\u001b[49m\u001b[43m \u001b[49m\u001b[43mretain_graph\u001b[49m\u001b[43m,\u001b[49m\u001b[43m \u001b[49m\u001b[43mcreate_graph\u001b[49m\u001b[43m,\u001b[49m\u001b[43m \u001b[49m\u001b[43minputs\u001b[49m\u001b[38;5;241;43m=\u001b[39;49m\u001b[43minputs\u001b[49m\n\u001b[1;32m    583\u001b[0m \u001b[43m\u001b[49m\u001b[43m)\u001b[49m\n",
      "File \u001b[0;32m~/.cache/pypoetry/virtualenvs/diff-i93oUBlF-py3.10/lib/python3.10/site-packages/torch/autograd/__init__.py:347\u001b[0m, in \u001b[0;36mbackward\u001b[0;34m(tensors, grad_tensors, retain_graph, create_graph, grad_variables, inputs)\u001b[0m\n\u001b[1;32m    342\u001b[0m     retain_graph \u001b[38;5;241m=\u001b[39m create_graph\n\u001b[1;32m    344\u001b[0m \u001b[38;5;66;03m# The reason we repeat the same comment below is that\u001b[39;00m\n\u001b[1;32m    345\u001b[0m \u001b[38;5;66;03m# some Python versions print out the first line of a multi-line function\u001b[39;00m\n\u001b[1;32m    346\u001b[0m \u001b[38;5;66;03m# calls in the traceback and some print out the last line\u001b[39;00m\n\u001b[0;32m--> 347\u001b[0m \u001b[43m_engine_run_backward\u001b[49m\u001b[43m(\u001b[49m\n\u001b[1;32m    348\u001b[0m \u001b[43m    \u001b[49m\u001b[43mtensors\u001b[49m\u001b[43m,\u001b[49m\n\u001b[1;32m    349\u001b[0m \u001b[43m    \u001b[49m\u001b[43mgrad_tensors_\u001b[49m\u001b[43m,\u001b[49m\n\u001b[1;32m    350\u001b[0m \u001b[43m    \u001b[49m\u001b[43mretain_graph\u001b[49m\u001b[43m,\u001b[49m\n\u001b[1;32m    351\u001b[0m \u001b[43m    \u001b[49m\u001b[43mcreate_graph\u001b[49m\u001b[43m,\u001b[49m\n\u001b[1;32m    352\u001b[0m \u001b[43m    \u001b[49m\u001b[43minputs\u001b[49m\u001b[43m,\u001b[49m\n\u001b[1;32m    353\u001b[0m \u001b[43m    \u001b[49m\u001b[43mallow_unreachable\u001b[49m\u001b[38;5;241;43m=\u001b[39;49m\u001b[38;5;28;43;01mTrue\u001b[39;49;00m\u001b[43m,\u001b[49m\n\u001b[1;32m    354\u001b[0m \u001b[43m    \u001b[49m\u001b[43maccumulate_grad\u001b[49m\u001b[38;5;241;43m=\u001b[39;49m\u001b[38;5;28;43;01mTrue\u001b[39;49;00m\u001b[43m,\u001b[49m\n\u001b[1;32m    355\u001b[0m \u001b[43m\u001b[49m\u001b[43m)\u001b[49m\n",
      "File \u001b[0;32m~/.cache/pypoetry/virtualenvs/diff-i93oUBlF-py3.10/lib/python3.10/site-packages/torch/autograd/graph.py:825\u001b[0m, in \u001b[0;36m_engine_run_backward\u001b[0;34m(t_outputs, *args, **kwargs)\u001b[0m\n\u001b[1;32m    823\u001b[0m     unregister_hooks \u001b[38;5;241m=\u001b[39m _register_logging_hooks_on_whole_graph(t_outputs)\n\u001b[1;32m    824\u001b[0m \u001b[38;5;28;01mtry\u001b[39;00m:\n\u001b[0;32m--> 825\u001b[0m     \u001b[38;5;28;01mreturn\u001b[39;00m \u001b[43mVariable\u001b[49m\u001b[38;5;241;43m.\u001b[39;49m\u001b[43m_execution_engine\u001b[49m\u001b[38;5;241;43m.\u001b[39;49m\u001b[43mrun_backward\u001b[49m\u001b[43m(\u001b[49m\u001b[43m  \u001b[49m\u001b[38;5;66;43;03m# Calls into the C++ engine to run the backward pass\u001b[39;49;00m\n\u001b[1;32m    826\u001b[0m \u001b[43m        \u001b[49m\u001b[43mt_outputs\u001b[49m\u001b[43m,\u001b[49m\u001b[43m \u001b[49m\u001b[38;5;241;43m*\u001b[39;49m\u001b[43margs\u001b[49m\u001b[43m,\u001b[49m\u001b[43m \u001b[49m\u001b[38;5;241;43m*\u001b[39;49m\u001b[38;5;241;43m*\u001b[39;49m\u001b[43mkwargs\u001b[49m\n\u001b[1;32m    827\u001b[0m \u001b[43m    \u001b[49m\u001b[43m)\u001b[49m  \u001b[38;5;66;03m# Calls into the C++ engine to run the backward pass\u001b[39;00m\n\u001b[1;32m    828\u001b[0m \u001b[38;5;28;01mfinally\u001b[39;00m:\n\u001b[1;32m    829\u001b[0m     \u001b[38;5;28;01mif\u001b[39;00m attach_logging_hooks:\n",
      "File \u001b[0;32m~/.cache/pypoetry/virtualenvs/diff-i93oUBlF-py3.10/lib/python3.10/site-packages/pyro/util.py:84\u001b[0m, in \u001b[0;36mwarn_if_nan.<locals>.<lambda>\u001b[0;34m(x)\u001b[0m\n\u001b[1;32m     80\u001b[0m         lineno \u001b[38;5;241m=\u001b[39m frame\u001b[38;5;241m.\u001b[39mf_lineno\n\u001b[1;32m     82\u001b[0m \u001b[38;5;28;01mif\u001b[39;00m torch\u001b[38;5;241m.\u001b[39mis_tensor(value) \u001b[38;5;129;01mand\u001b[39;00m value\u001b[38;5;241m.\u001b[39mrequires_grad:\n\u001b[1;32m     83\u001b[0m     value\u001b[38;5;241m.\u001b[39mregister_hook(\n\u001b[0;32m---> 84\u001b[0m         \u001b[38;5;28;01mlambda\u001b[39;00m x: warn_if_nan(\n\u001b[1;32m     85\u001b[0m             x, \u001b[38;5;124m\"\u001b[39m\u001b[38;5;124mbackward \u001b[39m\u001b[38;5;124m\"\u001b[39m \u001b[38;5;241m+\u001b[39m msg, filename\u001b[38;5;241m=\u001b[39mfilename, lineno\u001b[38;5;241m=\u001b[39mlineno\n\u001b[1;32m     86\u001b[0m         )\n\u001b[1;32m     87\u001b[0m     )\n\u001b[1;32m     89\u001b[0m \u001b[38;5;28;01mif\u001b[39;00m torch_isnan(value):\n\u001b[1;32m     90\u001b[0m     warnings\u001b[38;5;241m.\u001b[39mwarn_explicit(\n\u001b[1;32m     91\u001b[0m         \u001b[38;5;124m\"\u001b[39m\u001b[38;5;124mEncountered NaN\u001b[39m\u001b[38;5;132;01m{}\u001b[39;00m\u001b[38;5;124m\"\u001b[39m\u001b[38;5;241m.\u001b[39mformat(\u001b[38;5;124m\"\u001b[39m\u001b[38;5;124m: \u001b[39m\u001b[38;5;124m\"\u001b[39m \u001b[38;5;241m+\u001b[39m msg \u001b[38;5;28;01mif\u001b[39;00m msg \u001b[38;5;28;01melse\u001b[39;00m \u001b[38;5;124m\"\u001b[39m\u001b[38;5;124m.\u001b[39m\u001b[38;5;124m\"\u001b[39m),\n\u001b[1;32m     92\u001b[0m         \u001b[38;5;167;01mUserWarning\u001b[39;00m,\n\u001b[1;32m     93\u001b[0m         filename,\n\u001b[1;32m     94\u001b[0m         lineno,\n\u001b[1;32m     95\u001b[0m     )\n",
      "\u001b[0;31mKeyboardInterrupt\u001b[0m: "
     ]
    }
   ],
   "source": [
    "pyro.clear_param_store()\n",
    "NUM_EPOCHS = 2500\n",
    "NUM_BATCHES = int(math.ceil(data.shape[0] / batch_size))\n",
    "\n",
    "def per_param_callable(param_name):\n",
    "    if param_name == 'cluster_means_q_mean':\n",
    "        return {\"lr\": 0.0001, \"betas\": (0.9, 0.999)}\n",
    "    elif param_name == 'cluster_scales_q_mean':\n",
    "        return {\"lr\": 0.0001, \"betas\": (0.9, 0.999)}\n",
    "    elif \"logit\" in param_name:\n",
    "        return {\"lr\": 0.0001, \"betas\": (0.9, 0.999)}\n",
    "    else:\n",
    "        return {\"lr\": 0.0001, \"betas\": (0.9, 0.999)}\n",
    "\n",
    "scheduler = Adam(per_param_callable)\n",
    "\n",
    "# Setup the inference algorithm\n",
    "svi = SVI(model, guide, scheduler, loss=TraceMeanField_ELBO(num_particles=NUM_PARTICLES, vectorize_particles=True))\n",
    "\n",
    "epoch_pbar = tqdm(range(NUM_EPOCHS))\n",
    "PATIENCE = 5\n",
    "current_min_loss = float('inf')\n",
    "patience_counter = 0\n",
    "for epoch in range(1, NUM_EPOCHS + 1):\n",
    "    running_loss = 0.0\n",
    "    for step in range(NUM_BATCHES):\n",
    "        loss = svi.step(data)\n",
    "        running_loss += loss / batch_size\n",
    "    epoch_pbar.set_description(f\"Epoch {epoch} : loss = {round(running_loss, 4)}\")\n",
    "    # print(f\"Epoch {epoch} : loss = {round(running_loss, 4)}\")\n",
    "    if running_loss > current_min_loss:\n",
    "        patience_counter += 1\n",
    "    else:\n",
    "        current_min_loss = running_loss\n",
    "        patience_counter = 0\n",
    "    if patience_counter >= PATIENCE:\n",
    "        break "
   ]
  },
  {
   "cell_type": "code",
   "execution_count": null,
   "metadata": {},
   "outputs": [],
   "source": [
    "num_posteriors = 100  # Assuming this is the desired number of posteriors to sample\n",
    "cluster_probs_samples = []\n",
    "for _ in range(num_posteriors):\n",
    "    with pyro.plate(\"data\", len(data)):\n",
    "        cluster_probs_sample = torch.softmax(pyro.sample(\"cluster_probs\", ZukoToPyro(cluster_probs_flow_dist(data))), dim=-1)\n",
    "    cluster_probs_samples.append(cluster_probs_sample)\n",
    "cluster_probs_avg = torch.stack(cluster_probs_samples).mean(dim=0)\n",
    "print(cluster_probs_avg[:5])\n",
    "print(TRUE_PRIOR_WEIGHTS[:5])\n",
    "cluster_assignments_posterior = cluster_probs_avg.argmax(dim=-1)"
   ]
  },
  {
   "cell_type": "code",
   "execution_count": null,
   "metadata": {},
   "outputs": [],
   "source": [
    "rows = spatial_locations[\"row\"].astype(int)\n",
    "columns = spatial_locations[\"col\"].astype(int)\n",
    "\n",
    "num_rows = max(rows) + 1\n",
    "num_cols = max(columns) + 1\n",
    "\n",
    "cluster_grid = torch.zeros((num_rows, num_cols), dtype=torch.long)\n",
    "\n",
    "cluster_grid[rows, columns] = cluster_assignments_posterior + 1\n",
    "\n",
    "colors = plt.cm.get_cmap('viridis', num_clusters + 1)\n",
    "\n",
    "plt.figure(figsize=(6, 6))\n",
    "plt.imshow(cluster_grid.cpu(), cmap=colors, interpolation='nearest', origin='lower')\n",
    "plt.colorbar(ticks=range(1, num_clusters + 1), label='Cluster Values')\n",
    "plt.title('Posterior Cluster Assignment with BayXenSmooth')"
   ]
  },
  {
   "cell_type": "code",
   "execution_count": null,
   "metadata": {},
   "outputs": [],
   "source": []
  }
 ],
 "metadata": {
  "kernelspec": {
   "display_name": "diff-i93oUBlF-py3.10",
   "language": "python",
   "name": "python3"
  },
  "language_info": {
   "codemirror_mode": {
    "name": "ipython",
    "version": 3
   },
   "file_extension": ".py",
   "mimetype": "text/x-python",
   "name": "python",
   "nbconvert_exporter": "python",
   "pygments_lexer": "ipython3",
   "version": "3.10.12"
  }
 },
 "nbformat": 4,
 "nbformat_minor": 2
}
