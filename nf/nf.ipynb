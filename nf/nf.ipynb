{
 "cells": [
  {
   "cell_type": "code",
   "execution_count": null,
   "metadata": {},
   "outputs": [],
   "source": [
    "import pyro\n",
    "from abc import ABCMeta"
   ]
  },
  {
   "cell_type": "markdown",
   "metadata": {},
   "source": [
    "# Potts Prior"
   ]
  },
  {
   "cell_type": "markdown",
   "metadata": {},
   "source": [
    "The Potts prior is a prior distribution of cluster assignments given neighboring states. The general form of the Potts model is $$\\pi(z_i) \\propto \\exp \\left( \\sum_i H(z_i) + \\sum_{(i,j) \\in G} J(z_i, z_j)\\right)$$. H is the local potention representing some external influence of bias on the spot i. J is the interaction energy between neighboring sites. This represents the neighboring signals of spots."
   ]
  },
  {
   "cell_type": "code",
   "execution_count": null,
   "metadata": {},
   "outputs": [],
   "source": [
    "class MCMCKernel(object, metaclass=ABCMeta):\n",
    "\n",
    "    def setup(self, warmup_steps, *args, **kwargs):\n",
    "        r\"\"\"\n",
    "        Optional method to set up any state required at the start of the\n",
    "        simulation run.\n",
    "\n",
    "        :param int warmup_steps: Number of warmup iterations.\n",
    "        :param \\*args: Algorithm specific positional arguments.\n",
    "        :param \\*\\*kwargs: Algorithm specific keyword arguments.\n",
    "        \"\"\"\n",
    "        pass\n",
    "\n",
    "    def cleanup(self):\n",
    "        \"\"\"\n",
    "        Optional method to clean up any residual state on termination.\n",
    "        \"\"\"\n",
    "        pass\n",
    "\n",
    "    def logging(self):\n",
    "        \"\"\"\n",
    "        Relevant logging information to be printed at regular intervals\n",
    "        of the MCMC run. Returns `None` by default.\n",
    "\n",
    "        :return: String containing the diagnostic summary. e.g. acceptance rate\n",
    "        :rtype: string\n",
    "        \"\"\"\n",
    "        return None\n",
    "\n",
    "    def diagnostics(self):\n",
    "        \"\"\"\n",
    "        Returns a dict of useful diagnostics after finishing sampling process.\n",
    "        \"\"\"\n",
    "        # NB: should be not None for multiprocessing works\n",
    "        return {}\n",
    "\n",
    "    def end_warmup(self):\n",
    "        \"\"\"\n",
    "        Optional method to tell kernel that warm-up phase has been finished.\n",
    "        \"\"\"\n",
    "        pass\n",
    "\n",
    "    @property\n",
    "    def initial_params(self):\n",
    "        \"\"\"\n",
    "        Returns a dict of initial params (by default, from the prior) to initiate the MCMC run.\n",
    "\n",
    "        :return: dict of parameter values keyed by their name.\n",
    "        \"\"\"\n",
    "        raise NotImplementedError\n",
    "\n",
    "    @initial_params.setter\n",
    "    def initial_params(self, params):\n",
    "        \"\"\"\n",
    "        Sets the parameters to initiate the MCMC run. Note that the parameters must\n",
    "        have unconstrained support.\n",
    "        \"\"\"\n",
    "        raise NotImplementedError\n",
    "\n",
    "    def sample(self, params):\n",
    "        \"\"\"\n",
    "        Samples parameters from the posterior distribution, when given existing parameters.\n",
    "\n",
    "        :param dict params: Current parameter values.\n",
    "        :param int time_step: Current time step.\n",
    "        :return: New parameters from the posterior distribution.\n",
    "        \"\"\"\n",
    "        raise NotImplementedError\n",
    "\n",
    "    def __call__(self, params):\n",
    "        \"\"\"\n",
    "        Alias for MCMCKernel.sample() method.\n",
    "        \"\"\"\n",
    "        return self.sample(params)\n"
   ]
  }
 ],
 "metadata": {
  "kernelspec": {
   "display_name": "diff-i93oUBlF-py3.10",
   "language": "python",
   "name": "python3"
  },
  "language_info": {
   "codemirror_mode": {
    "name": "ipython",
    "version": 3
   },
   "file_extension": ".py",
   "mimetype": "text/x-python",
   "name": "python",
   "nbconvert_exporter": "python",
   "pygments_lexer": "ipython3",
   "version": "3.10.12"
  }
 },
 "nbformat": 4,
 "nbformat_minor": 2
}
