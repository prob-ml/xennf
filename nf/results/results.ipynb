{
 "cells": [
  {
   "cell_type": "code",
   "execution_count": 7,
   "metadata": {},
   "outputs": [],
   "source": [
    "import os\n",
    "import json"
   ]
  },
  {
   "cell_type": "code",
   "execution_count": 8,
   "metadata": {},
   "outputs": [],
   "source": [
    "def scrape_json_files(directory):\n",
    "    max_ari = float('-inf')\n",
    "    max_nmi = float('-inf')\n",
    "    max_ari_file = None\n",
    "    max_nmi_file = None\n",
    "\n",
    "    # Initialize variables to keep track of the highest metrics for files with \"cluster_metrics_nsamples=2500\"\n",
    "    max_ari_2500 = float('-inf')\n",
    "    max_nmi_2500 = float('-inf')\n",
    "    max_ari_file_2500 = None\n",
    "    max_nmi_file_2500 = None\n",
    "\n",
    "    for root, dirs, files in os.walk(directory):\n",
    "        for file in files:\n",
    "            if file.endswith('.json'):\n",
    "                file_path = os.path.join(root, file)\n",
    "                with open(file_path, 'r') as f:\n",
    "                    data = json.load(f)\n",
    "                    ari = data['ARI']\n",
    "                    nmi = data['NMI']\n",
    "                    # Check if the file name contains \"cluster_metrics_nsamples=2500\"\n",
    "                    if \"cluster_metrics_nsamples=2500\" in file:\n",
    "                        # Update metrics for files with \"cluster_metrics_nsamples=2500\"\n",
    "                        if ari > max_ari_2500:\n",
    "                            max_ari_2500 = ari\n",
    "                            max_ari_file_2500 = file_path\n",
    "                        if nmi > max_nmi_2500:\n",
    "                            max_nmi_2500 = nmi\n",
    "                            max_nmi_file_2500 = file_path\n",
    "                    else:\n",
    "                        # Update metrics for all other files\n",
    "                        if ari > max_ari:\n",
    "                            max_ari = ari\n",
    "                            max_ari_file = file_path\n",
    "                        if nmi > max_nmi:\n",
    "                            max_nmi = nmi\n",
    "                            max_nmi_file = file_path\n",
    "\n",
    "    return max_ari, max_nmi, max_ari_file, max_nmi_file, max_ari_2500, max_nmi_2500, max_ari_file_2500, max_nmi_file_2500"
   ]
  },
  {
   "cell_type": "code",
   "execution_count": 9,
   "metadata": {},
   "outputs": [
    {
     "name": "stdout",
     "output_type": "stream",
     "text": [
      "Highest ARI: 0.409 at DLPFC/K-Means/K=7/clusters/cluster_metrics.json\n",
      "Highest NMI: 0.534 at DLPFC/mclust/num_pcs=10/K=7/clusters/cluster_metrics.json\n",
      "Highest ARI for nsamples=2500: 0.372 at DLPFC/XenNF/DATA_DIM=8/K=7/INIT=mclust/NEIGHBORSIZE=1/PRIOR_FLOW_TYPE=MAF/PRIOR_FLOW_LENGTH=2/GCONV=GCN/POST_FLOW_TYPE=NSF/POST_FLOW_LENGTH=32/HIDDEN_LAYERS=[128, 128]/cluster_metrics_nsamples=2500.json\n",
      "Highest NMI for nsamples=2500: 0.524 at DLPFC/XenNF/DATA_DIM=10/K=7/INIT=K-Means/NEIGHBORSIZE=1/PRIOR_FLOW_TYPE=MAF/PRIOR_FLOW_LENGTH=2/GCONV=SAGE/POST_FLOW_TYPE=NSF/POST_FLOW_LENGTH=8/HIDDEN_LAYERS=[128, 128]/cluster_metrics_nsamples=2500.json\n"
     ]
    }
   ],
   "source": [
    "directory = 'DLPFC'  \n",
    "max_ari, max_nmi, max_ari_file, max_nmi_file, max_ari_2500, max_nmi_2500, max_ari_file_2500, max_nmi_file_2500 = scrape_json_files(directory)\n",
    "print(f'Highest ARI: {max_ari} at {max_ari_file}')\n",
    "print(f'Highest NMI: {max_nmi} at {max_nmi_file}')\n",
    "print(f'Highest ARI for nsamples=2500: {max_ari_2500} at {max_ari_file_2500}')\n",
    "print(f'Highest NMI for nsamples=2500: {max_nmi_2500} at {max_nmi_file_2500}')"
   ]
  },
  {
   "cell_type": "code",
   "execution_count": null,
   "metadata": {},
   "outputs": [],
   "source": []
  }
 ],
 "metadata": {
  "kernelspec": {
   "display_name": "diff-i93oUBlF-py3.10",
   "language": "python",
   "name": "python3"
  },
  "language_info": {
   "codemirror_mode": {
    "name": "ipython",
    "version": 3
   },
   "file_extension": ".py",
   "mimetype": "text/x-python",
   "name": "python",
   "nbconvert_exporter": "python",
   "pygments_lexer": "ipython3",
   "version": "3.10.12"
  }
 },
 "nbformat": 4,
 "nbformat_minor": 2
}
